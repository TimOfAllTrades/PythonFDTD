{
 "cells": [
  {
   "cell_type": "markdown",
   "metadata": {},
   "source": [
    "# Finite Difference Time Domain (FDTD)\n",
    "\n",
    "This is a Python Jupiter Notebook explains the concepts of FDTD, a finite element approximation method to simulate electromagnetic wave behavior using Maxwell's Equations."
   ]
  },
  {
   "cell_type": "markdown",
   "metadata": {},
   "source": [
    "\n",
    "## Mathematical concept\n",
    "\n",
    "FDTD starts with Ampere's law and Faraday's law (ignoring currents):\n",
    "\n",
    "$$ \\nabla \\times E =\\frac{\\partial B }{\\partial t} $$\n",
    "\n",
    "$$ \\nabla \\times B = \\frac{1}{c^{2}} \\frac{\\partial E }{\\partial t} $$\n",
    "\n",
    "Which can be expressed as:\n",
    "\n",
    "$$ \\\\\\ \\newline det \\begin{vmatrix} \\hat{x} & \\hat{y} & \\hat{z} \\\\ \\frac{\\partial}{\\partial x} & \\frac{\\partial}{\\partial y} & \\frac{\\partial}{\\partial z} \\\\ E_x & E_y & E_z \\end{vmatrix} = \\frac{\\partial B_x }{\\partial t}\\hat{x} + \\frac{\\partial B_y }{\\partial t}\\hat{y} + \\frac{\\partial B_z }{\\partial t}\\hat{z} $$\n",
    "\n",
    "$$ det \\begin{vmatrix} \\hat{x} & \\hat{y} & \\hat{z} \\\\ \\frac{\\partial}{\\partial x} & \\frac{\\partial}{\\partial y} & \\frac{\\partial}{\\partial z} \\\\ B_x & B_y & B_z \\end{vmatrix} = \\frac{1}{c^{2}} \\lparen \\frac{\\partial E_x }{\\partial t}\\hat{x} + \\frac{\\partial E_y }{\\partial t}\\hat{y} + \\frac{\\partial E_z }{\\partial t}\\hat{z} \\rparen $$\n",
    "\n",
    "Constraining the wave to travel in 1 dimension along the z axis and polarizing the electric field in the y direction (and the magnetic field in the x direction), we can set several values in the determinant to 0\n",
    "\n",
    "$$ \\\\\\ \\newline det \\begin{vmatrix} \\hat{x} & \\hat{y} & \\hat{z} \\\\ 0 & 0 & \\frac{\\partial}{\\partial z} \\\\ 0 & E_y & 0 \\end{vmatrix} = \\frac{\\partial B_x }{\\partial t}\\hat{x} + \\frac{\\partial B_y }{\\partial t}\\hat{y} + \\frac{\\partial B_z }{\\partial t}\\hat{z} $$\n",
    "\n",
    "$$ det \\begin{vmatrix} \\hat{x} & \\hat{y} & \\hat{z} \\\\ 0 & 0 & \\frac{\\partial}{\\partial z} \\\\ B_x & 0 & 0 \\end{vmatrix} = \\frac{1}{c^{2}} \\lparen \\frac{\\partial E_x }{\\partial t}\\hat{x} + \\frac{\\partial E_y }{\\partial t}\\hat{y} + \\frac{\\partial E_z }{\\partial t}\\hat{z} \\rparen $$\n",
    "\n",
    "<!---  Removing the right harpoon since it doesnt display correctly in jupyter\n",
    "\n",
    "$$ \\nabla \\times \\overrightharpoon{E} =\\frac{\\partial \\overrightharpoon{B} }{\\partial t} $$\n",
    "\n",
    "$$ \\nabla \\times \\overrightharpoon{B} = \\frac{1}{c^{2}} \\frac{\\partial \\overrightharpoon{E} }{\\partial t} $$\n",
    "\n",
    "Which can be expressed as:\n",
    "\n",
    "$$ \\\\\\ \\newline det \\begin{vmatrix} \\hat{x} & \\hat{y} & \\hat{z} \\\\ \\frac{\\partial}{\\partial x} & \\frac{\\partial}{\\partial y} & \\frac{\\partial}{\\partial z} \\\\ E_x & E_y & E_z \\end{vmatrix} = \\frac{\\partial B_x }{\\partial t}\\hat{x} + \\frac{\\partial B_y }{\\partial t}\\hat{y} + \\frac{\\partial B_z }{\\partial t}\\hat{z} $$\n",
    "\n",
    "$$ det \\begin{vmatrix} \\hat{x} & \\hat{y} & \\hat{z} \\\\ \\frac{\\partial}{\\partial x} & \\frac{\\partial}{\\partial y} & \\frac{\\partial}{\\partial z} \\\\ B_x & B_y & B_z \\end{vmatrix} = \\frac{1}{c^{2}} \\lparen \\frac{\\partial E_x }{\\partial t}\\hat{x} + \\frac{\\partial E_y }{\\partial t}\\hat{y} + \\frac{\\partial E_z }{\\partial t}\\hat{z} \\rparen $$\n",
    "\n",
    "Constraining the wave to travel in 1 dimension along the z axis and polarizing the electric field in the y direction (and the magnetic field in the x direction), we can set several values in the determinant to 0\n",
    "\n",
    "$$ \\\\\\ \\newline det \\begin{vmatrix} \\hat{x} & \\hat{y} & \\hat{z} \\\\ 0 & 0 & \\frac{\\partial}{\\partial z} \\\\ 0 & E_y & 0 \\end{vmatrix} = \\frac{\\partial B_x }{\\partial t}\\hat{x} + \\frac{\\partial B_y }{\\partial t}\\hat{y} + \\frac{\\partial B_z }{\\partial t}\\hat{z} $$\n",
    "\n",
    "$$ det \\begin{vmatrix} \\hat{x} & \\hat{y} & \\hat{z} \\\\ 0 & 0 & \\frac{\\partial}{\\partial z} \\\\ B_x & 0 & 0 \\end{vmatrix} = \\frac{1}{c^{2}} \\lparen \\frac{\\partial E_x }{\\partial t}\\hat{x} + \\frac{\\partial E_y }{\\partial t}\\hat{y} + \\frac{\\partial E_z }{\\partial t}\\hat{z} \\rparen $$\n",
    "\n",
    "-->\n",
    "     \n",
    "<!---\n",
    "\n",
    "Too complex and messy\n",
    "\n",
    "$$ {} \\\\ \\frac{\\partial E_z }{\\partial y} - \\frac{\\partial E_y }{\\partial z} =\\frac{\\partial B_x }{\\partial t} \\enspace\\enspace , \\enspace\\enspace \\xcancel{ \\frac{\\partial E_x }{\\partial z} - \\frac{\\partial E_z }{\\partial x} =\\frac{\\partial B_y }{\\partial t}} \\enspace\\enspace , \\enspace\\enspace \\xcancel{ \\frac{\\partial E_y }{\\partial x} - \\frac{\\partial E_x }{\\partial y} =\\frac{\\partial B_z }{\\partial t}} $$\n",
    "\n",
    "$$ \\xcancel{ \\frac{\\partial B_z }{\\partial y} - \\frac{\\partial B_y }{\\partial z} = \\frac{1}{c^{2}} \\frac{\\partial E_x }{\\partial t}} \\enspace\\enspace , \\enspace\\enspace \\frac{\\partial B_x }{\\partial z} - \\frac{\\partial B_z }{\\partial x} = \\frac{1}{c^{2}} \\frac{\\partial E_y }{\\partial t} \\enspace\\enspace , \\enspace\\enspace \\xcancel{ \\frac{\\partial B_y }{\\partial x} - \\frac{\\partial B_x }{\\partial y} = \\frac{1}{c^{2}} \\frac{\\partial E_z }{\\partial t}} $$\n",
    "\n",
    "Too complex and messy\n",
    "\n",
    "$$ \\frac{\\partial E_z }{\\partial y} - \\frac{\\partial E_y }{\\partial z} =\\frac{\\partial B_x }{\\partial t} \\enspace\\enspace , \\enspace\\enspace \\xcancel{ \\frac{\\partial E_x }{\\partial z} - \\frac{\\partial E_z }{\\partial x} =\\frac{\\partial B_y }{\\partial t}} \\enspace\\enspace , \\enspace\\enspace \\xcancel{ \\frac{\\partial E_y }{\\partial x} - \\frac{\\partial E_x }{\\partial y} =\\frac{\\partial B_z }{\\partial t}} $$\n",
    "\n",
    "$$ \\xcancel{ \\frac{\\partial B_z }{\\partial y} - \\frac{\\partial B_y }{\\partial z} = \\frac{1}{c^{2}} \\frac{\\partial E_x }{\\partial t}} \\enspace\\enspace , \\enspace\\enspace \\frac{\\partial B_x }{\\partial z} - \\frac{\\partial B_z }{\\partial x} = \\frac{1}{c^{2}} \\frac{\\partial E_y }{\\partial t} \\enspace\\enspace , \\enspace\\enspace \\xcancel{ \\frac{\\partial B_y }{\\partial x} - \\frac{\\partial B_x }{\\partial y} = \\frac{1}{c^{2}} \\frac{\\partial E_z }{\\partial t}} $$\n",
    "\n",
    "-->\n",
    "\n",
    "So that the only terms that remain are\n",
    "\n",
    "$$ \\frac{\\partial E_y}{\\partial z}=\\frac{\\partial B_x} {\\partial t} $$\n",
    "\n",
    "$$ \\frac{\\partial B_x}{\\partial z}=\\frac{1}{c^{2}} \\frac{\\partial E_y} {\\partial t} $$\n"
   ]
  },
  {
   "cell_type": "markdown",
   "metadata": {},
   "source": [
    "Replacing B with H and rewriting the equation to incorporate permittivity and permeability yields\n",
    "\n",
    "$$ \\frac{\\partial E_y}{\\partial z}=\\mu\\frac{\\partial H_x }{\\partial t} $$\n",
    "\n",
    "$$ \\frac{\\partial H_x}{\\partial z}=\\epsilon\\frac{\\partial E_y} {\\partial t} \\enspace, \\enspace  \\enspace\\enspace \\frac{1}{c^{2}} = \\mu\\epsilon  $$\n",
    "\n",
    "Since, H and E can be different by several orders of magnitude, we will use a normalized H field denoted by the tilde.\n",
    "\n",
    "$$ \\frac{\\partial E_y}{\\partial z}= \\frac{\\mu_r}{c_0} \\frac{\\partial \\widetilde{H}_x} {\\partial t} $$\n",
    "\n",
    "$$ \\frac{\\partial \\widetilde{H}_x}{\\partial z}= \\frac{\\epsilon_r}{c_0}\\frac{\\partial E_y} {\\partial t} $$"
   ]
  },
  {
   "cell_type": "markdown",
   "metadata": {},
   "source": [
    "Now we have a set of normalized E and H equations using relative permittivities and permeabilities.  For the simulation, we will use a 1D grid with 100 discreet spaces to run the simulation"
   ]
  },
  {
   "cell_type": "code",
   "execution_count": 7,
   "metadata": {},
   "outputs": [],
   "source": [
    "import numpy as np\n",
    "import math\n",
    "import matplotlib.pyplot as plt"
   ]
  },
  {
   "cell_type": "markdown",
   "metadata": {},
   "source": [
    "First the libraries are imported."
   ]
  },
  {
   "cell_type": "code",
   "execution_count": 8,
   "metadata": {},
   "outputs": [],
   "source": [
    "N = 100\n",
    "tstep = 100\n",
    "c0 = 300000000\n",
    "dz = 1e-9\n",
    "dt = dz/c0"
   ]
  },
  {
   "cell_type": "markdown",
   "metadata": {},
   "source": [
    "Next the simulation parameters are defined.  Since we are using a 100 space grid, N will be set to 100.  tstep represents the number of time steps the simulation will run.  The speed of light is denoted by c0, in this case 300000000 meters per second is used.  dz represents the size of each grid.  In this case, 1 nanometer is used.  Finally, dt is the time step for the simulation.  For the best accuracy and simulation time tradeoff, the time step will be set to grid size divided by the speed of light.  "
   ]
  },
  {
   "cell_type": "code",
   "execution_count": null,
   "metadata": {},
   "outputs": [],
   "source": [
    "Ey = np.zeros(N,dtype = np.float32)\n",
    "Hx = np.zeros(N,dtype = np.float32)\n",
    "\n",
    "epsr = np.ones(N,dtype = np.float32)\n",
    "mur = np.ones(N,dtype = np.float32)"
   ]
  },
  {
   "cell_type": "markdown",
   "metadata": {},
   "source": [
    "Using Numpy, we will create the grid arrays to hold the electric and magnetic field data.  Each array is set to size 100 using floating point number data type."
   ]
  },
  {
   "cell_type": "code",
   "execution_count": 9,
   "metadata": {},
   "outputs": [
    {
     "data": {
      "image/png": "[encoded data removed]",
      "text/plain": [
       "<Figure size 640x480 with 1 Axes>"
      ]
     },
     "metadata": {},
     "output_type": "display_data"
    }
   ],
   "source": [
    "import numpy as np\n",
    "import math\n",
    "import matplotlib.pyplot as plt\n",
    "\n",
    "N = 100\n",
    "tstep = 100\n",
    "c0 = 300000000\n",
    "dz = 1e-9\n",
    "dt = dz/c0\n",
    "\n",
    "Ey = np.zeros(N,dtype = np.float32)\n",
    "Hx = np.zeros(N,dtype = np.float32)\n",
    "\n",
    "epsr = np.ones(N,dtype = np.float32)\n",
    "mur = np.ones(N,dtype = np.float32)\n",
    "\n",
    "heatmap = np.zeros((N,tstep),dtype = np.float32)\n",
    "\n",
    "def UpdateH():\n",
    "    for i in range(1,N-1):\n",
    "        Hx[i] += c0*dt/mur[i]/dz * (Ey[i+1] - Ey[i])\n",
    "\n",
    "def UpdateE():\n",
    "    for i in range(1,N):\n",
    "        Ey[i] += c0*dt/epsr[i]/dz * (Hx[i] - Hx[i-1])\n",
    "\n",
    "for t in range(0,tstep):\n",
    "\n",
    "    Ey[50] += pow(2.1728, -0.5 / 20 * (t-20)**2)\n",
    "\n",
    "    UpdateH()\n",
    "    UpdateE()\n",
    "\n",
    "    heatmap[:,t] = Ey[:]\n",
    "\n",
    "plt.imshow(heatmap, cmap='hot', interpolation='nearest')\n",
    "plt.show()\n"
   ]
  }
 ],
 "metadata": {
  "kernelspec": {
   "display_name": "Python 3",
   "language": "python",
   "name": "python3"
  },
  "language_info": {
   "codemirror_mode": {
    "name": "ipython",
    "version": 3
   },
   "file_extension": ".py",
   "mimetype": "text/x-python",
   "name": "python",
   "nbconvert_exporter": "python",
   "pygments_lexer": "ipython3",
   "version": "3.9.2"
  }
 },
 "nbformat": 4,
 "nbformat_minor": 4
}
