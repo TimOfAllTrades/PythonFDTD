{
  "cells": [
    {
      "cell_type": "markdown",
      "metadata": {},
      "source": [
        "# Finite Difference Time Domain (FDTD)\n",
        "\n",
        "This is a Python Jupiter Notebook explains the concepts of FDTD, a finite element approximation method to simulate electromagnetic wave behavior using Maxwell's Equations."
      ]
    },
    {
      "cell_type": "markdown",
      "metadata": {},
      "source": [
        "\n",
        "## Mathematical concept\n",
        "\n",
        "FDTD starts with Ampere's law (for the simplest case excluding currents) and Faraday's law:\n",
        "\n",
        "\n",
        "$$ \\nabla \\times \\overrightharpoon{E} =\\frac{\\partial \\overrightharpoon{B} }{\\partial t} $$\n",
        "\n",
        "$$ \\nabla \\times \\overrightharpoon{B} = \\frac{1}{c^{2}} \\frac{\\partial \\overrightharpoon{E} }{\\partial t} $$\n",
        "\n",
        "\n",
        "In this initial demonstration, the 1D traveling wave case will be considered so that only Ey, Hx are non-zero.  The above equations can be re-written to.\n",
        "\n",
        "\n",
        "$$ \\frac{\\partial \\overrightharpoon{E_y}}{\\partial z}=\\frac{\\partial \\overrightharpoon{B_x} }{\\partial t} $$\n",
        "\n",
        "$$ \\frac{\\partial \\overrightharpoon{B_x}}{\\partial z}=\\frac{1}{c^{2}} \\frac{\\partial \\overrightharpoon{E_y} }{\\partial t} $$\n"
      ]
    },
    {
      "cell_type": "code",
      "execution_count": null,
      "metadata": {
        "trusted": true
      },
      "outputs": [],
      "source": []
    },
    {
      "cell_type": "markdown",
      "metadata": {},
      "source": [
        "The Miller Rabin primality test will return true if an input number n has an overwhelmingly high probability of being prime, while Euler's GCD will return the greatest common denominator between two input numbers or simply 1 if there are none.\n",
        "\n",
        "The next step is to find two prime numbers p and q.  In the line below, p is already set to an initial value, but you can set p to any number simply by modifying the line."
      ]
    },
    {
      "cell_type": "code",
      "execution_count": null,
      "metadata": {
        "trusted": true
      },
      "outputs": [],
      "source": []
    },
    {
      "cell_type": "markdown",
      "metadata": {},
      "source": [
        "In the next block of code, p will be incremented until it passes the Miller Rabin primality test."
      ]
    },
    {
      "cell_type": "code",
      "execution_count": null,
      "metadata": {
        "trusted": true
      },
      "outputs": [],
      "source": []
    },
    {
      "cell_type": "markdown",
      "metadata": {},
      "source": [
        "Another prime number q is needed.  Similar to p before, q is given an initial value, but it can be modified to any other number."
      ]
    },
    {
      "cell_type": "code",
      "execution_count": null,
      "metadata": {
        "trusted": true
      },
      "outputs": [],
      "source": []
    },
    {
      "cell_type": "markdown",
      "metadata": {},
      "source": [
        "Like before, q will be incremented until it passes the Miller Rabin primality test."
      ]
    },
    {
      "cell_type": "code",
      "execution_count": null,
      "metadata": {
        "trusted": true
      },
      "outputs": [],
      "source": []
    },
    {
      "cell_type": "markdown",
      "metadata": {},
      "source": [
        "These are the two prime numbers we obtained.  \n",
        "\n",
        "Using p and q, we acquire two other numbers of importance, the **modulus**:"
      ]
    },
    {
      "cell_type": "code",
      "execution_count": 3,
      "metadata": {
        "trusted": true
      },
      "outputs": [
        {
          "ename": "NameError",
          "evalue": "name 'p' is not defined",
          "output_type": "error",
          "traceback": [
            "\u001b[1;31m---------------------------------------------------------------------------\u001b[0m",
            "\u001b[1;31mNameError\u001b[0m                                 Traceback (most recent call last)",
            "Cell \u001b[1;32mIn[3], line 1\u001b[0m\n\u001b[1;32m----> 1\u001b[0m modulus \u001b[38;5;241m=\u001b[39m \u001b[43mp\u001b[49m\u001b[38;5;241m*\u001b[39mq\n",
            "\u001b[1;31mNameError\u001b[0m: name 'p' is not defined"
          ]
        }
      ],
      "source": [
        "modulus = p*q"
      ]
    },
    {
      "cell_type": "markdown",
      "metadata": {},
      "source": [
        "and the **totient**"
      ]
    },
    {
      "cell_type": "code",
      "execution_count": null,
      "metadata": {
        "trusted": true
      },
      "outputs": [
        {
          "name": "stdout",
          "output_type": "stream",
          "text": [
            "The modulus and totient respectively: 18986432541971 18986422098432\n"
          ]
        }
      ],
      "source": [
        "totient = (p-1)*(q-1)\n",
        "\n",
        "print(\"The modulus and totient respectively:\", modulus,totient)"
      ]
    },
    {
      "cell_type": "markdown",
      "metadata": {},
      "source": [
        "Next, we need a prime number n that is coprime with the totient, i.e. the greatest common factor between them is 1.  \n",
        "\n",
        "Here we increment n until it passes the Miller Rabin test (so that it is prime) and has a value of 1 returned from the Euler's GCD function (shares no common factors with the totient).  n should also be smaller than the modulus"
      ]
    },
    {
      "cell_type": "code",
      "execution_count": null,
      "metadata": {},
      "outputs": [
        {
          "name": "stdout",
          "output_type": "stream",
          "text": [
            "65537\n"
          ]
        }
      ],
      "source": [
        "#You can modify this number to whatever you like so long as it is < modulus\n",
        "n = 65537\n",
        "\n",
        "while miller_rabin(n, 40) == False or Eulers_GCD(totient, n) != 1:\n",
        "    n += 1 \n",
        "\n",
        "\n",
        "print(n)"
      ]
    },
    {
      "cell_type": "markdown",
      "metadata": {},
      "source": [
        "Now that we have our n, and totient, it is time to calculate the private key.\n",
        "The private key (pk) is such that the below equation is satisfied.\n",
        "\n",
        "$$\n",
        "n \\times private \\enspace key \\enspace mod \\enspace totient = 1\n",
        "$$\n",
        "\n",
        "Simply, when n * private key is divided by the totient, the remainder must be 1.  To accomplish this, we need will increment an integer i until \n",
        "$\n",
        "(i \\times totient + 1) \\enspace mod \\enspace n = 0\n",
        "$\n",
        " and the quotient will be the private key.  To accomplish this, we use the code below"
      ]
    },
    {
      "cell_type": "code",
      "execution_count": null,
      "metadata": {
        "trusted": true
      },
      "outputs": [
        {
          "name": "stdout",
          "output_type": "stream",
          "text": [
            "The Modulus 18986432541971\n",
            "The n exponent 65537\n",
            "The private key 6313259843585\n"
          ]
        }
      ],
      "source": [
        "def Get_Private_Key(totient, n):\n",
        "    for i in range(0, n):\n",
        "        if ((i * totient)+1) % n == 0:\n",
        "            return ((i * totient)+1)//n\n",
        "        \n",
        "pkey = Get_Private_Key(totient, n)\n",
        "\n",
        "print(\"The Modulus\", modulus)\n",
        "print(\"The n exponent\", n)\n",
        "print(\"The private key\", pkey)"
      ]
    },
    {
      "cell_type": "markdown",
      "metadata": {
        "trusted": true
      },
      "source": [
        "Now we have all the numbers we need.  The modulus, and n is publicly broadcast as the public key, while the private key is kept secret.  To encrypt data, the formula is (plain text)^n mod modulus.\n",
        "\n",
        "To efficiently take the modulus of a large exponential number, we use the following properties of modulo division as demonstrated in this example:\n",
        "\n",
        "$$\n",
        "a \\enspace mod \\enspace b = c\n",
        "$$\n",
        "$$\n",
        "a^2 \\enspace mod \\enspace b = c^2 \\enspace mod \\enspace b = d\n",
        "$$\n",
        "$$\n",
        "a^4 \\enspace mod \\enspace b = d^2 \\enspace mod \\enspace b = e\n",
        "$$\n",
        "$$\n",
        "a^8 \\enspace mod \\enspace b = e^2 \\enspace mod \\enspace b = f\n",
        "$$\n",
        "\n",
        "To calculate \n",
        "$\n",
        "a^{13} \\enspace mod \\enspace b\n",
        "$\n",
        "would be equivalent to \n",
        "$\n",
        "(a^8 \\enspace mod \\enspace b \\times a^4 \\enspace mod \\enspace b \\times a \\enspace mod \\enspace b ) \\enspace mod \\enspace b\n",
        "$\n",
        "\n",
        "Which can be expressed as \n",
        "$\n",
        "(f \\times e \\times c) \\enspace mod \\enspace b\n",
        "$\n",
        "using the coefficients in the table above\n",
        "\n",
        "The trick to tackling a large exponential modulo function (even when the numbers are hundreds of digits long) is to determine all necessary squared modulo coefficients, then multiply the necessary corresponding coefficients so that the product equates to the original number, and determine its modulus.\n",
        "\n",
        "This effect is reflected in the ModuloExponent function defined earlier in the first code box.\n"
      ]
    },
    {
      "cell_type": "markdown",
      "metadata": {
        "trusted": true
      },
      "source": [
        "Now we have all the necessary fuctions and variables defined.  We will attempt to encrypt a number"
      ]
    },
    {
      "cell_type": "code",
      "execution_count": null,
      "metadata": {},
      "outputs": [],
      "source": [
        "#Replace the plaintext variable with any number you like\n",
        "plaintext = 2"
      ]
    },
    {
      "cell_type": "markdown",
      "metadata": {},
      "source": [
        "Now to encrypt it using the modulo exponent function.  We will take the plaintext to the nth power mod Modulus"
      ]
    },
    {
      "cell_type": "code",
      "execution_count": null,
      "metadata": {},
      "outputs": [
        {
          "name": "stdout",
          "output_type": "stream",
          "text": [
            "The plaintext number has been changed to:  11201462320055\n"
          ]
        }
      ],
      "source": [
        "ciphertext = ModuloExponent(plaintext, n, modulus)\n",
        "print(\"The plaintext number has been changed to: \",ciphertext)"
      ]
    },
    {
      "cell_type": "markdown",
      "metadata": {},
      "source": [
        "The ciphertext variable is now the encrypted plaintext number.  The cipher text can be safely sent throughout the internet and only the person with the private key can decrypt it.  To decrypt the ciphertext, we take the cipher text to the private key's power mod Modulus."
      ]
    },
    {
      "cell_type": "code",
      "execution_count": null,
      "metadata": {},
      "outputs": [
        {
          "name": "stdout",
          "output_type": "stream",
          "text": [
            "The decrypted number is:  2\n",
            "which should match with the original plaintext 2\n"
          ]
        }
      ],
      "source": [
        "decryptedtext = ModuloExponent(ciphertext, pkey, modulus)\n",
        "print(\"The decrypted number is: \", decryptedtext)\n",
        "print(\"which should match with the original plaintext\", plaintext)"
      ]
    }
  ],
  "metadata": {
    "kernelspec": {
      "display_name": "Python 3",
      "language": "python",
      "name": "python3"
    },
    "language_info": {
      "codemirror_mode": {
        "name": "ipython",
        "version": 3
      },
      "file_extension": ".py",
      "mimetype": "text/x-python",
      "name": "python",
      "nbconvert_exporter": "python",
      "pygments_lexer": "ipython3",
      "version": "3.12.1"
    }
  },
  "nbformat": 4,
  "nbformat_minor": 4
}
